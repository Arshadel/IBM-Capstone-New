{
 "cells": [
  {
   "cell_type": "markdown",
   "metadata": {},
   "source": [
    " ## Table of content\n",
    "1. Business Understanding\n",
    "2. Data Understanding"
   ]
  },
  {
   "cell_type": "markdown",
   "metadata": {},
   "source": [
    "<h1> Business Understanding </h1>"
   ]
  },
  {
   "cell_type": "markdown",
   "metadata": {},
   "source": [
    "This project is to predict the severity of the accident based on the data available for the city from 2014. \n",
    "\n",
    "This will be help full the drivers to predict, understand the decide route to be chosen/avoid during his driving. There are various variable that is dependent on the severity of the accident. Need to understand the relation between different variables on the severity of the accident and support the drivers and traffic officials to reduce choosing accident prone routs that is defined by various variables like whether condition, route, junction, traffic, direction, road condition, location etc. \n",
    "\n",
    "<h5> This model should help </h5>\n",
    "\n",
    "Any passengers taking various routes should be able to predict the chance of accident in the route\n",
    "<p>\n",
    "Traffic department to predict the severity of accident when an accident is reported in the given location during the time. "
   ]
  },
  {
   "cell_type": "markdown",
   "metadata": {},
   "source": [
    "<h1> Data Understanding </h1>"
   ]
  },
  {
   "cell_type": "markdown",
   "metadata": {},
   "source": [
    "We have data available from 2014 with various attribute helping to learning, evaluate and predict the severity of the accident.\n",
    "Our prediction target (Dependent) variable is based on various independent variables as below.\n",
    "\n",
    "1. AddressType\n",
    "2.Location\n",
    "3.Weather\n",
    "4.Road Condition\n",
    "5.Light Condition\n",
    "6.Vehicle count\n",
    "7.Person count"
   ]
  },
  {
   "cell_type": "code",
   "execution_count": null,
   "metadata": {},
   "outputs": [],
   "source": []
  }
 ],
 "metadata": {
  "kernelspec": {
   "display_name": "Python 3",
   "language": "python",
   "name": "python3"
  },
  "language_info": {
   "codemirror_mode": {
    "name": "ipython",
    "version": 3
   },
   "file_extension": ".py",
   "mimetype": "text/x-python",
   "name": "python",
   "nbconvert_exporter": "python",
   "pygments_lexer": "ipython3",
   "version": "3.8.5"
  }
 },
 "nbformat": 4,
 "nbformat_minor": 4
}
